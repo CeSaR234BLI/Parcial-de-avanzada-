{
 "cells": [
  {
   "cell_type": "markdown",
   "metadata": {},
   "source": [
    "Informe de Análisis Estadístico"
   ]
  },
  {
   "cell_type": "markdown",
   "metadata": {},
   "source": [
    "# Informe de Análisis Estadístico\n",
    "\n",
    "## 1. Cargar el archivo y mostrar las primeras filas de los datos\n",
    "\n",
    "En este análisis se utiliza un conjunto de datos de ventas de productos, donde se registran los precios, categorías y métodos de pago.\n",
    "\n",
    "```python\n",
    "import pandas as pd\n",
    "import numpy as np\n",
    "import matplotlib.pyplot as plt\n",
    "from scipy import stats\n",
    "\n",
    "# Cargar el archivo CSV\n",
    "try:\n",
    "    df = pd.read_csv(\"negocio.csv\", delimiter=';', encoding='utf-8')\n",
    "except UnicodeDecodeError:\n",
    "    df = pd.read_csv(\"negocio.csv\", delimiter=';', encoding='latin1')\n",
    "\n",
    "# Mostrar las primeras filas del DataFrame\n",
    "print(\"Primeras filas del DataFrame:\")\n",
    "print(df.head())\n"
   ]
  },
  {
   "cell_type": "markdown",
   "metadata": {},
   "source": [
    "2. Seleccionar una columna para agrupar los datos\n",
    "Agrupamos los datos por categoría y sumamos los precios totales."
   ]
  },
  {
   "cell_type": "code",
   "execution_count": null,
   "metadata": {},
   "outputs": [],
   "source": [
    "# Limpiar los nombres de las columnas\n",
    "df.columns = df.columns.str.strip()  # Elimina espacios en los nombres de las columnas\n",
    "\n",
    "# Agrupar los datos por CATEGORIA y sumar precios\n",
    "ventas_por_categoria = df.groupby('CATEGORIA')['PRECIO'].sum().reset_index()\n",
    "print(\"Ventas totales por categoría:\")\n",
    "print(ventas_por_categoria)\n"
   ]
  },
  {
   "cell_type": "markdown",
   "metadata": {},
   "source": [
    "3. Presentar gráficos de las tendencias importantes"
   ]
  },
  {
   "cell_type": "code",
   "execution_count": null,
   "metadata": {},
   "outputs": [],
   "source": [
    "# Gráfico de barras de ventas por categoría\n",
    "plt.figure(figsize=(10, 5))\n",
    "plt.bar(ventas_por_categoria['CATEGORIA'], ventas_por_categoria['PRECIO'], color='skyblue')\n",
    "plt.title('Ventas Totales por Categoría')\n",
    "plt.xlabel('Categoría')\n",
    "plt.ylabel('Total Ventas')\n",
    "plt.xticks(rotation=45)\n",
    "plt.tight_layout()\n",
    "plt.show()\n",
    "\n",
    "# Gráfico de líneas para mostrar la tendencia de precios\n",
    "plt.figure(figsize=(10, 5))\n",
    "plt.plot(df['REFERENCIA'], df['PRECIO'], marker='o', linestyle='-', color='orange')\n",
    "plt.title('Tendencia de Precios por Referencia')\n",
    "plt.xlabel('Referencia')\n",
    "plt.ylabel('Precio')\n",
    "plt.xticks(rotation=90)\n",
    "plt.tight_layout()\n",
    "plt.show()\n",
    "\n"
   ]
  },
  {
   "cell_type": "markdown",
   "metadata": {},
   "source": [
    "4. Destacar información clave para el análisis\n",
    "\n",
    "A continuación se presentan estadísticas descriptivas de la columna precio"
   ]
  },
  {
   "cell_type": "code",
   "execution_count": null,
   "metadata": {},
   "outputs": [],
   "source": [
    "# Convertir la columna PRECIO a tipo numérico\n",
    "df['PRECIO'] = pd.to_numeric(df['PRECIO'], errors='coerce')\n",
    "\n",
    "# Análisis estadístico de la columna PRECIO\n",
    "media = np.mean(df['PRECIO'])\n",
    "mediana = np.median(df['PRECIO'])\n",
    "moda = stats.mode(df['PRECIO'])\n",
    "varianza = np.var(df['PRECIO'])\n",
    "desviacion_estandar = np.std(df['PRECIO'])\n",
    "\n",
    "# Imprimir resultados\n",
    "print('La media es:', media)\n",
    "print('La mediana es:', mediana)\n",
    "if isinstance(moda.mode, np.ndarray) and len(moda.mode) > 0:\n",
    "    print('La moda es:', moda.mode[0], 'y se repite', moda.count[0], 'veces.')\n",
    "else:\n",
    "    print('No se encontró moda.')\n",
    "print('La varianza es:', varianza)\n",
    "print('La desviación estándar es:', desviacion_estandar)\n"
   ]
  },
  {
   "cell_type": "markdown",
   "metadata": {},
   "source": [
    "5. Generar una nueva columna\n",
    "Se crea una nueva columna que representa un 10% de descuento sobre el precio original."
   ]
  },
  {
   "cell_type": "code",
   "execution_count": null,
   "metadata": {},
   "outputs": [],
   "source": [
    "# Crear una nueva columna que representa un 10% de descuento\n",
    "df['PRECIO_CON_DESCUENTO'] = df['PRECIO'] * 0.9\n",
    "print(\"DataFrame con la nueva columna de precios con descuento:\")\n",
    "print(df.head())\n"
   ]
  },
  {
   "cell_type": "markdown",
   "metadata": {},
   "source": [
    ". Análisis final de los hallazgos\n",
    "A continuación, se presentan las conclusiones basadas en el análisis realizado:"
   ]
  },
  {
   "cell_type": "code",
   "execution_count": null,
   "metadata": {},
   "outputs": [],
   "source": [
    "# Análisis final\n",
    "print(\"Análisis final:\")\n",
    "print(\"1. La media de los precios es:\", media)\n",
    "print(\"2. La mediana de los precios es:\", mediana)\n",
    "if isinstance(moda.mode, np.ndarray) and len(moda.mode) > 0:\n",
    "    print(\"3. La moda de los precios es:\", moda.mode[0], \"y se repite\", moda.count[0], \"veces.\")\n",
    "else:\n",
    "    print(\"3. No se encontró moda.\")\n",
    "print(\"4. La varianza indica la dispersión de los precios, siendo:\", varianza)\n",
    "print(\"5. La desviación estándar de los precios es:\", desviacion_estandar)\n",
    "print(\"6. Se observan tendencias significativas en los precios a través de los gráficos generados.\")\n"
   ]
  },
  {
   "cell_type": "markdown",
   "metadata": {},
   "source": [
    "Conclusiones\n",
    "El análisis realizado muestra que:\n",
    "\n",
    "La media, mediana y moda de los precios ofrecen información clave sobre la distribución de los mismos.\n",
    "Las gráficas revelan patrones de comportamiento en las ventas según categorías.\n",
    "La nueva columna de precios con descuento permite evaluar el impacto de las ofertas.\n",
    "Este informe se puede guardar y compartir en un repositorio de GitHub."
   ]
  },
  {
   "cell_type": "markdown",
   "metadata": {},
   "source": [
    "\n",
    "### Instrucciones para usar el informe\n",
    "\n",
    "1. **Crea un nuevo Jupyter Notebook** en tu entorno de trabajo.\n",
    "2. **Copia y pega el código** en las celdas del notebook, dividiendo el contenido en celdas de Markdown y celdas de código según corresponda.\n",
    "3. **Ejecuta el código** para asegurarte de que funciona correctamente con tu archivo CSV.\n",
    "4. **Realiza cualquier ajuste necesario** según el análisis o los datos que encuentres.\n",
    "5. **Sube el notebook a tu repositorio de GitHub** y comparte el enlace como se indica en las instrucciones del proyecto.\n",
    "\n",
    "Si necesitas más personalización o ajustes en el contenido, ¡házmelo saber!\n"
   ]
  }
 ],
 "metadata": {
  "kernelspec": {
   "display_name": "Python 3",
   "language": "python",
   "name": "python3"
  },
  "language_info": {
   "name": "python",
   "version": "3.11.3"
  }
 },
 "nbformat": 4,
 "nbformat_minor": 2
}
